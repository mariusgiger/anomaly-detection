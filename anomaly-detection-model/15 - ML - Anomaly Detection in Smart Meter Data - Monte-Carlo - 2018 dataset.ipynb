{
 "cells": [
  {
   "cell_type": "markdown",
   "metadata": {},
   "source": [
    "### Challenge Description\n",
    "\n",
    "Energy consumption in buildings and industry is often wasted due to user behaviour, human error, and poorly performing equipment. In this context, identifying abnormal consumption power behavior can be an important part of reducing peak energy consumption and changing undesirable user behavior. With the widespread rollouts of smart meters, normal operating consumption can be learned over time and used to identify or flag abnormal consumption. Such information can help indicate to users when their equipment is not operating as normal and can help to change user behavior or to even indicate what the problem appliances may be to implement lasting changes.\n",
    "\n",
    "This challenge is looking for data scientists to apply their skills to an anomaly detection problem using smart meter data. Ideally, such an algorithm should begin to operate after as little as 3 months and should improve over time. A platform to visualise the anomalies would also be useful. Users can select any type of machine learning algorithms that they wish to in order to detect the anomalies from the data.\n",
    "\n",
    "### Data\n",
    "A sample including smart meter data can be found on [kaggle](https://www.kaggle.com/portiamurray/anomaly-detection-smart-meter-data-sample). Participants are encouraged to find other smart meter data to work with in order to test their algorithms."
   ]
  },
  {
   "cell_type": "markdown",
   "metadata": {},
   "source": [
    "### Imports"
   ]
  },
  {
   "cell_type": "code",
   "execution_count": 1,
   "metadata": {},
   "outputs": [],
   "source": [
    "# imports\n",
    "import pandas as pd\n",
    "import matplotlib.pyplot as plt\n",
    "import numpy as np\n",
    "import seaborn as sns\n",
    "from sklearn.cluster import DBSCAN\n",
    "from sklearn.preprocessing import StandardScaler\n",
    "import random\n",
    "from datetime import datetime, timedelta\n",
    "import collections as cl"
   ]
  },
  {
   "cell_type": "markdown",
   "metadata": {},
   "source": [
    "### Load file to 'data' dataframe"
   ]
  },
  {
   "cell_type": "code",
   "execution_count": 2,
   "metadata": {},
   "outputs": [
    {
     "data": {
      "text/html": [
       "<div>\n",
       "<style scoped>\n",
       "    .dataframe tbody tr th:only-of-type {\n",
       "        vertical-align: middle;\n",
       "    }\n",
       "\n",
       "    .dataframe tbody tr th {\n",
       "        vertical-align: top;\n",
       "    }\n",
       "\n",
       "    .dataframe thead th {\n",
       "        text-align: right;\n",
       "    }\n",
       "</style>\n",
       "<table border=\"1\" class=\"dataframe\">\n",
       "  <thead>\n",
       "    <tr style=\"text-align: right;\">\n",
       "      <th></th>\n",
       "      <th>kWh</th>\n",
       "    </tr>\n",
       "    <tr>\n",
       "      <th>datetime</th>\n",
       "      <th></th>\n",
       "    </tr>\n",
       "  </thead>\n",
       "  <tbody>\n",
       "    <tr>\n",
       "      <th>2018-01-01 00:00:00+01:00</th>\n",
       "      <td>23.6</td>\n",
       "    </tr>\n",
       "    <tr>\n",
       "      <th>2018-01-01 00:15:00+01:00</th>\n",
       "      <td>23.6</td>\n",
       "    </tr>\n",
       "    <tr>\n",
       "      <th>2018-01-01 00:30:00+01:00</th>\n",
       "      <td>22.4</td>\n",
       "    </tr>\n",
       "    <tr>\n",
       "      <th>2018-01-01 00:45:00+01:00</th>\n",
       "      <td>23.2</td>\n",
       "    </tr>\n",
       "    <tr>\n",
       "      <th>2018-01-01 01:00:00+01:00</th>\n",
       "      <td>23.2</td>\n",
       "    </tr>\n",
       "  </tbody>\n",
       "</table>\n",
       "</div>"
      ],
      "text/plain": [
       "                            kWh\n",
       "datetime                       \n",
       "2018-01-01 00:00:00+01:00  23.6\n",
       "2018-01-01 00:15:00+01:00  23.6\n",
       "2018-01-01 00:30:00+01:00  22.4\n",
       "2018-01-01 00:45:00+01:00  23.2\n",
       "2018-01-01 01:00:00+01:00  23.2"
      ]
     },
     "execution_count": 2,
     "metadata": {},
     "output_type": "execute_result"
    }
   ],
   "source": [
    "data = pd.read_csv('data/2018.csv', delimiter=\";\")\n",
    "data.columns = ['datetime', 'kWh']\n",
    "data['datetime'] =  pd.to_datetime(data['datetime'])\n",
    "\n",
    "data = data.set_index('datetime')\n",
    "data.head()"
   ]
  },
  {
   "cell_type": "code",
   "execution_count": 3,
   "metadata": {},
   "outputs": [],
   "source": [
    "data = data[~data.index.duplicated(keep='first')] # there are 4 entries with the same timestamp"
   ]
  },
  {
   "cell_type": "code",
   "execution_count": 4,
   "metadata": {},
   "outputs": [
    {
     "data": {
      "text/plain": [
       "kWh    20.8\n",
       "Name: 2018-12-31 23:45:00+01:00, dtype: float64"
      ]
     },
     "execution_count": 4,
     "metadata": {},
     "output_type": "execute_result"
    }
   ],
   "source": [
    "data.iloc[-1]"
   ]
  },
  {
   "cell_type": "markdown",
   "metadata": {},
   "source": [
    "### How to with timestamps"
   ]
  },
  {
   "cell_type": "code",
   "execution_count": 5,
   "metadata": {},
   "outputs": [
    {
     "data": {
      "text/html": [
       "<div>\n",
       "<style scoped>\n",
       "    .dataframe tbody tr th:only-of-type {\n",
       "        vertical-align: middle;\n",
       "    }\n",
       "\n",
       "    .dataframe tbody tr th {\n",
       "        vertical-align: top;\n",
       "    }\n",
       "\n",
       "    .dataframe thead th {\n",
       "        text-align: right;\n",
       "    }\n",
       "</style>\n",
       "<table border=\"1\" class=\"dataframe\">\n",
       "  <thead>\n",
       "    <tr style=\"text-align: right;\">\n",
       "      <th></th>\n",
       "      <th>kWh</th>\n",
       "    </tr>\n",
       "    <tr>\n",
       "      <th>datetime</th>\n",
       "      <th></th>\n",
       "    </tr>\n",
       "  </thead>\n",
       "  <tbody>\n",
       "    <tr>\n",
       "      <th>2018-01-01 00:00:00+01:00</th>\n",
       "      <td>23.6</td>\n",
       "    </tr>\n",
       "    <tr>\n",
       "      <th>2018-01-01 00:15:00+01:00</th>\n",
       "      <td>23.6</td>\n",
       "    </tr>\n",
       "    <tr>\n",
       "      <th>2018-01-01 00:30:00+01:00</th>\n",
       "      <td>22.4</td>\n",
       "    </tr>\n",
       "    <tr>\n",
       "      <th>2018-01-01 00:45:00+01:00</th>\n",
       "      <td>23.2</td>\n",
       "    </tr>\n",
       "    <tr>\n",
       "      <th>2018-01-01 01:00:00+01:00</th>\n",
       "      <td>23.2</td>\n",
       "    </tr>\n",
       "  </tbody>\n",
       "</table>\n",
       "</div>"
      ],
      "text/plain": [
       "                            kWh\n",
       "datetime                       \n",
       "2018-01-01 00:00:00+01:00  23.6\n",
       "2018-01-01 00:15:00+01:00  23.6\n",
       "2018-01-01 00:30:00+01:00  22.4\n",
       "2018-01-01 00:45:00+01:00  23.2\n",
       "2018-01-01 01:00:00+01:00  23.2"
      ]
     },
     "execution_count": 5,
     "metadata": {},
     "output_type": "execute_result"
    }
   ],
   "source": [
    "df = data\n",
    "df.head()"
   ]
  },
  {
   "cell_type": "code",
   "execution_count": 6,
   "metadata": {},
   "outputs": [],
   "source": [
    "for index,row in df.iterrows():\n",
    "    if index in data.index:\n",
    "        df.loc[index]['kWh'] = data.loc[index]['kWh']\n",
    "    else:\n",
    "        print('Missing value at ', index)"
   ]
  },
  {
   "cell_type": "code",
   "execution_count": 7,
   "metadata": {},
   "outputs": [
    {
     "data": {
      "text/html": [
       "<div>\n",
       "<style scoped>\n",
       "    .dataframe tbody tr th:only-of-type {\n",
       "        vertical-align: middle;\n",
       "    }\n",
       "\n",
       "    .dataframe tbody tr th {\n",
       "        vertical-align: top;\n",
       "    }\n",
       "\n",
       "    .dataframe thead th {\n",
       "        text-align: right;\n",
       "    }\n",
       "</style>\n",
       "<table border=\"1\" class=\"dataframe\">\n",
       "  <thead>\n",
       "    <tr style=\"text-align: right;\">\n",
       "      <th></th>\n",
       "      <th>kWh</th>\n",
       "    </tr>\n",
       "    <tr>\n",
       "      <th>datetime</th>\n",
       "      <th></th>\n",
       "    </tr>\n",
       "  </thead>\n",
       "  <tbody>\n",
       "    <tr>\n",
       "      <th>2018-01-01 00:00:00+01:00</th>\n",
       "      <td>23.6</td>\n",
       "    </tr>\n",
       "    <tr>\n",
       "      <th>2018-01-01 00:15:00+01:00</th>\n",
       "      <td>23.6</td>\n",
       "    </tr>\n",
       "    <tr>\n",
       "      <th>2018-01-01 00:30:00+01:00</th>\n",
       "      <td>22.4</td>\n",
       "    </tr>\n",
       "    <tr>\n",
       "      <th>2018-01-01 00:45:00+01:00</th>\n",
       "      <td>23.2</td>\n",
       "    </tr>\n",
       "    <tr>\n",
       "      <th>2018-01-01 01:00:00+01:00</th>\n",
       "      <td>23.2</td>\n",
       "    </tr>\n",
       "  </tbody>\n",
       "</table>\n",
       "</div>"
      ],
      "text/plain": [
       "                            kWh\n",
       "datetime                       \n",
       "2018-01-01 00:00:00+01:00  23.6\n",
       "2018-01-01 00:15:00+01:00  23.6\n",
       "2018-01-01 00:30:00+01:00  22.4\n",
       "2018-01-01 00:45:00+01:00  23.2\n",
       "2018-01-01 01:00:00+01:00  23.2"
      ]
     },
     "execution_count": 7,
     "metadata": {},
     "output_type": "execute_result"
    }
   ],
   "source": [
    "df.head()"
   ]
  },
  {
   "cell_type": "code",
   "execution_count": 8,
   "metadata": {},
   "outputs": [
    {
     "name": "stdout",
     "output_type": "stream",
     "text": [
      "Anomolous value at  2018-02-22 07:15:00+01:00\n",
      "Anomolous value at  2018-02-22 07:45:00+01:00\n",
      "Anomolous value at  2018-02-22 08:15:00+01:00\n",
      "Anomolous value at  2018-02-22 08:30:00+01:00\n",
      "Anomolous value at  2018-02-22 09:30:00+01:00\n",
      "Anomolous value at  2018-02-22 09:45:00+01:00\n",
      "Anomolous value at  2018-02-22 10:00:00+01:00\n",
      "Anomolous value at  2018-02-22 10:45:00+01:00\n",
      "Anomolous value at  2018-02-22 14:45:00+01:00\n",
      "Anomolous value at  2018-02-23 08:00:00+01:00\n",
      "Anomolous value at  2018-02-23 08:15:00+01:00\n",
      "Anomolous value at  2018-02-23 09:45:00+01:00\n",
      "Anomolous value at  2018-02-23 10:00:00+01:00\n",
      "Anomolous value at  2018-02-23 10:15:00+01:00\n",
      "Anomolous value at  2018-02-23 10:45:00+01:00\n",
      "Anomolous value at  2018-02-26 07:45:00+01:00\n",
      "Anomolous value at  2018-02-26 08:15:00+01:00\n",
      "Anomolous value at  2018-02-26 09:45:00+01:00\n",
      "Anomolous value at  2018-02-26 10:00:00+01:00\n",
      "Anomolous value at  2018-02-26 10:15:00+01:00\n",
      "Anomolous value at  2018-02-26 10:45:00+01:00\n",
      "Anomolous value at  2018-02-26 11:00:00+01:00\n",
      "Anomolous value at  2018-02-26 11:15:00+01:00\n",
      "Anomolous value at  2018-02-26 11:30:00+01:00\n",
      "Anomolous value at  2018-02-26 13:00:00+01:00\n",
      "Anomolous value at  2018-02-26 13:30:00+01:00\n",
      "Anomolous value at  2018-02-27 07:45:00+01:00\n",
      "Anomolous value at  2018-02-27 09:30:00+01:00\n",
      "Anomolous value at  2018-02-27 09:45:00+01:00\n",
      "Anomolous value at  2018-02-27 10:15:00+01:00\n",
      "Anomolous value at  2018-02-27 10:30:00+01:00\n",
      "Anomolous value at  2018-02-27 11:00:00+01:00\n",
      "Anomolous value at  2018-02-27 11:30:00+01:00\n",
      "Anomolous value at  2018-02-27 15:00:00+01:00\n",
      "Anomolous value at  2018-02-28 08:15:00+01:00\n",
      "Anomolous value at  2018-02-28 10:30:00+01:00\n",
      "Anomolous value at  2018-02-28 10:45:00+01:00\n",
      "Anomolous value at  2018-02-28 11:30:00+01:00\n",
      "Anomolous value at  2018-02-28 14:45:00+01:00\n",
      "Anomolous value at  2018-03-01 08:00:00+01:00\n",
      "Anomolous value at  2018-03-01 09:30:00+01:00\n",
      "Anomolous value at  2018-03-01 09:45:00+01:00\n",
      "Anomolous value at  2018-03-01 10:00:00+01:00\n",
      "Anomolous value at  2018-03-01 11:30:00+01:00\n",
      "Anomolous value at  2018-03-01 13:00:00+01:00\n",
      "Anomolous value at  2018-03-05 08:30:00+01:00\n",
      "Anomolous value at  2018-03-08 07:30:00+01:00\n",
      "Anomolous value at  2018-03-14 10:45:00+01:00\n",
      "Anomolous value at  2018-03-30 01:15:00+02:00\n",
      "Anomolous value at  2018-03-30 19:15:00+02:00\n",
      "Anomolous value at  2018-03-30 19:30:00+02:00\n",
      "Anomolous value at  2018-03-30 19:45:00+02:00\n",
      "Anomolous value at  2018-04-01 16:00:00+02:00\n",
      "Anomolous value at  2018-04-01 16:15:00+02:00\n",
      "Anomolous value at  2018-04-08 19:45:00+02:00\n",
      "Anomolous value at  2018-04-16 03:15:00+02:00\n",
      "Anomolous value at  2018-04-19 00:15:00+02:00\n",
      "Anomolous value at  2018-04-19 00:45:00+02:00\n",
      "Anomolous value at  2018-04-19 01:00:00+02:00\n",
      "Anomolous value at  2018-04-21 00:30:00+02:00\n",
      "Anomolous value at  2018-04-21 02:00:00+02:00\n",
      "Anomolous value at  2018-04-21 02:15:00+02:00\n",
      "Anomolous value at  2018-04-21 02:30:00+02:00\n",
      "Anomolous value at  2018-04-21 02:45:00+02:00\n",
      "Anomolous value at  2018-04-21 03:00:00+02:00\n",
      "Anomolous value at  2018-04-21 03:45:00+02:00\n",
      "Anomolous value at  2018-04-21 04:15:00+02:00\n",
      "Anomolous value at  2018-04-21 18:15:00+02:00\n",
      "Anomolous value at  2018-04-21 19:15:00+02:00\n",
      "Anomolous value at  2018-04-21 19:30:00+02:00\n",
      "Anomolous value at  2018-04-21 19:45:00+02:00\n",
      "Anomolous value at  2018-04-22 20:15:00+02:00\n",
      "Anomolous value at  2018-04-23 02:30:00+02:00\n",
      "Anomolous value at  2018-05-24 02:00:00+02:00\n",
      "Anomolous value at  2018-05-26 02:00:00+02:00\n",
      "Anomolous value at  2018-06-03 03:30:00+02:00\n",
      "Anomolous value at  2018-09-13 03:30:00+02:00\n",
      "Anomolous value at  2018-12-13 08:15:00+01:00\n",
      "Anomolous value at  2018-12-13 09:45:00+01:00\n",
      "Anomolous value at  2018-12-14 10:00:00+01:00\n"
     ]
    }
   ],
   "source": [
    "df['freq'] = 0\n",
    "df['anomaly'] = 0\n",
    "appr = cl.defaultdict(float)\n",
    "count = 0\n",
    "alert_threshold = 0.0002\n",
    "\n",
    "for index, row in df.iterrows():\n",
    "    val = row['kWh']\n",
    "    if pd.isna(val):\n",
    "        print('Missing value at ', index)\n",
    "        df.loc[index,'anomaly']= 1\n",
    "    else:\n",
    "        count += 1\n",
    "        if val in appr:\n",
    "            appr[val] += 1\n",
    "        else:\n",
    "            appr[val] = 1\n",
    "        df.loc[index,'freq'] = appr[val]/count\n",
    "        if df.loc[index,'freq'] < alert_threshold:\n",
    "            print('Anomolous value at ', index)\n",
    "            df.loc[index,'anomaly']= 1"
   ]
  },
  {
   "cell_type": "code",
   "execution_count": 9,
   "metadata": {},
   "outputs": [
    {
     "data": {
      "image/png": "[encoded data removed]",
      "text/plain": [
       "<Figure size 720x432 with 1 Axes>"
      ]
     },
     "metadata": {
      "needs_background": "light"
     },
     "output_type": "display_data"
    }
   ],
   "source": [
    "plotdf = df.reset_index()\n",
    "fig, ax = plt.subplots(figsize=(10,6))\n",
    "a = plotdf.loc[plotdf['anomaly'] == 1, ['datetime', 'kWh']] #anomaly\n",
    "ax.plot(plotdf['datetime'], plotdf['kWh'], color='blue')\n",
    "ax.scatter(a['datetime'], a['kWh'], color='red')\n",
    "plt.show();"
   ]
  },
  {
   "cell_type": "code",
   "execution_count": 10,
   "metadata": {},
   "outputs": [
    {
     "data": {
      "text/html": [
       "<div>\n",
       "<style scoped>\n",
       "    .dataframe tbody tr th:only-of-type {\n",
       "        vertical-align: middle;\n",
       "    }\n",
       "\n",
       "    .dataframe tbody tr th {\n",
       "        vertical-align: top;\n",
       "    }\n",
       "\n",
       "    .dataframe thead th {\n",
       "        text-align: right;\n",
       "    }\n",
       "</style>\n",
       "<table border=\"1\" class=\"dataframe\">\n",
       "  <thead>\n",
       "    <tr style=\"text-align: right;\">\n",
       "      <th></th>\n",
       "      <th>kWh</th>\n",
       "      <th>freq</th>\n",
       "      <th>anomaly</th>\n",
       "    </tr>\n",
       "    <tr>\n",
       "      <th>datetime</th>\n",
       "      <th></th>\n",
       "      <th></th>\n",
       "      <th></th>\n",
       "    </tr>\n",
       "  </thead>\n",
       "  <tbody>\n",
       "    <tr>\n",
       "      <th>2018-02-22 07:15:00+01:00</th>\n",
       "      <td>138.8</td>\n",
       "      <td>0.000199</td>\n",
       "      <td>1</td>\n",
       "    </tr>\n",
       "    <tr>\n",
       "      <th>2018-02-22 07:45:00+01:00</th>\n",
       "      <td>144.8</td>\n",
       "      <td>0.000199</td>\n",
       "      <td>1</td>\n",
       "    </tr>\n",
       "    <tr>\n",
       "      <th>2018-02-22 08:15:00+01:00</th>\n",
       "      <td>155.6</td>\n",
       "      <td>0.000199</td>\n",
       "      <td>1</td>\n",
       "    </tr>\n",
       "    <tr>\n",
       "      <th>2018-02-22 08:30:00+01:00</th>\n",
       "      <td>152.4</td>\n",
       "      <td>0.000199</td>\n",
       "      <td>1</td>\n",
       "    </tr>\n",
       "    <tr>\n",
       "      <th>2018-02-22 09:30:00+01:00</th>\n",
       "      <td>146.8</td>\n",
       "      <td>0.000199</td>\n",
       "      <td>1</td>\n",
       "    </tr>\n",
       "    <tr>\n",
       "      <th>...</th>\n",
       "      <td>...</td>\n",
       "      <td>...</td>\n",
       "      <td>...</td>\n",
       "    </tr>\n",
       "    <tr>\n",
       "      <th>2018-06-03 03:30:00+02:00</th>\n",
       "      <td>7.2</td>\n",
       "      <td>0.000068</td>\n",
       "      <td>1</td>\n",
       "    </tr>\n",
       "    <tr>\n",
       "      <th>2018-09-13 03:30:00+02:00</th>\n",
       "      <td>7.2</td>\n",
       "      <td>0.000082</td>\n",
       "      <td>1</td>\n",
       "    </tr>\n",
       "    <tr>\n",
       "      <th>2018-12-13 08:15:00+01:00</th>\n",
       "      <td>153.2</td>\n",
       "      <td>0.000180</td>\n",
       "      <td>1</td>\n",
       "    </tr>\n",
       "    <tr>\n",
       "      <th>2018-12-13 09:45:00+01:00</th>\n",
       "      <td>155.2</td>\n",
       "      <td>0.000150</td>\n",
       "      <td>1</td>\n",
       "    </tr>\n",
       "    <tr>\n",
       "      <th>2018-12-14 10:00:00+01:00</th>\n",
       "      <td>144.8</td>\n",
       "      <td>0.000180</td>\n",
       "      <td>1</td>\n",
       "    </tr>\n",
       "  </tbody>\n",
       "</table>\n",
       "<p>80 rows × 3 columns</p>\n",
       "</div>"
      ],
      "text/plain": [
       "                             kWh      freq  anomaly\n",
       "datetime                                           \n",
       "2018-02-22 07:15:00+01:00  138.8  0.000199        1\n",
       "2018-02-22 07:45:00+01:00  144.8  0.000199        1\n",
       "2018-02-22 08:15:00+01:00  155.6  0.000199        1\n",
       "2018-02-22 08:30:00+01:00  152.4  0.000199        1\n",
       "2018-02-22 09:30:00+01:00  146.8  0.000199        1\n",
       "...                          ...       ...      ...\n",
       "2018-06-03 03:30:00+02:00    7.2  0.000068        1\n",
       "2018-09-13 03:30:00+02:00    7.2  0.000082        1\n",
       "2018-12-13 08:15:00+01:00  153.2  0.000180        1\n",
       "2018-12-13 09:45:00+01:00  155.2  0.000150        1\n",
       "2018-12-14 10:00:00+01:00  144.8  0.000180        1\n",
       "\n",
       "[80 rows x 3 columns]"
      ]
     },
     "execution_count": 10,
     "metadata": {},
     "output_type": "execute_result"
    }
   ],
   "source": [
    "df[df['anomaly'] == 1]"
   ]
  },
  {
   "cell_type": "code",
   "execution_count": 16,
   "metadata": {},
   "outputs": [
    {
     "data": {
      "image/png": "[encoded data removed]",
      "text/plain": [
       "<Figure size 720x432 with 1 Axes>"
      ]
     },
     "metadata": {
      "needs_background": "light"
     },
     "output_type": "display_data"
    }
   ],
   "source": [
    "fig, ax = plt.subplots(figsize=(10,6))\n",
    "a = plotdf[11000:13000].loc[plotdf['anomaly'] == 1, ['datetime', 'kWh']] #anomaly\n",
    "ax.plot(plotdf[11000:13000]['datetime'], plotdf[11000:13000]['kWh'], color='blue')\n",
    "ax.scatter(a['datetime'], a['kWh'], color='red')\n",
    "plt.show();"
   ]
  },
  {
   "cell_type": "code",
   "execution_count": null,
   "metadata": {},
   "outputs": [],
   "source": []
  }
 ],
 "metadata": {
  "kernelspec": {
   "display_name": "Python 3",
   "language": "python",
   "name": "python3"
  },
  "language_info": {
   "codemirror_mode": {
    "name": "ipython",
    "version": 3
   },
   "file_extension": ".py",
   "mimetype": "text/x-python",
   "name": "python",
   "nbconvert_exporter": "python",
   "pygments_lexer": "ipython3",
   "version": "3.8.5"
  }
 },
 "nbformat": 4,
 "nbformat_minor": 2
}
