{
 "cells": [
  {
   "cell_type": "markdown",
   "metadata": {},
   "source": [
    "### Challenge Description\n",
    "\n",
    "Energy consumption in buildings and industry is often wasted due to user behaviour, human error, and poorly performing equipment. In this context, identifying abnormal consumption power behavior can be an important part of reducing peak energy consumption and changing undesirable user behavior. With the widespread rollouts of smart meters, normal operating consumption can be learned over time and used to identify or flag abnormal consumption. Such information can help indicate to users when their equipment is not operating as normal and can help to change user behavior or to even indicate what the problem appliances may be to implement lasting changes.\n",
    "\n",
    "This challenge is looking for data scientists to apply their skills to an anomaly detection problem using smart meter data. Ideally, such an algorithm should begin to operate after as little as 3 months and should improve over time. A platform to visualise the anomalies would also be useful. Users can select any type of machine learning algorithms that they wish to in order to detect the anomalies from the data.\n",
    "\n",
    "### Data\n",
    "A sample including smart meter data can be found on [kaggle](https://www.kaggle.com/portiamurray/anomaly-detection-smart-meter-data-sample). Participants are encouraged to find other smart meter data to work with in order to test their algorithms."
   ]
  },
  {
   "cell_type": "markdown",
   "metadata": {},
   "source": [
    "### Imports"
   ]
  },
  {
   "cell_type": "code",
   "execution_count": 1,
   "metadata": {},
   "outputs": [],
   "source": [
    "# imports\n",
    "import pandas as pd\n",
    "import matplotlib.pyplot as plt\n",
    "import numpy as np\n",
    "import seaborn as sns\n",
    "from sklearn.cluster import DBSCAN\n",
    "from sklearn.preprocessing import StandardScaler\n",
    "import random\n",
    "from datetime import datetime, timedelta\n",
    "import collections as cl"
   ]
  },
  {
   "cell_type": "markdown",
   "metadata": {},
   "source": [
    "### Load file to 'data' dataframe"
   ]
  },
  {
   "cell_type": "code",
   "execution_count": 3,
   "metadata": {},
   "outputs": [
    {
     "data": {
      "text/html": [
       "<div>\n",
       "<style scoped>\n",
       "    .dataframe tbody tr th:only-of-type {\n",
       "        vertical-align: middle;\n",
       "    }\n",
       "\n",
       "    .dataframe tbody tr th {\n",
       "        vertical-align: top;\n",
       "    }\n",
       "\n",
       "    .dataframe thead th {\n",
       "        text-align: right;\n",
       "    }\n",
       "</style>\n",
       "<table border=\"1\" class=\"dataframe\">\n",
       "  <thead>\n",
       "    <tr style=\"text-align: right;\">\n",
       "      <th></th>\n",
       "      <th>kWh</th>\n",
       "    </tr>\n",
       "    <tr>\n",
       "      <th>datetime</th>\n",
       "      <th></th>\n",
       "    </tr>\n",
       "  </thead>\n",
       "  <tbody>\n",
       "    <tr>\n",
       "      <td>2016-01-01 00:15:00</td>\n",
       "      <td>2.85</td>\n",
       "    </tr>\n",
       "    <tr>\n",
       "      <td>2016-01-01 00:30:00</td>\n",
       "      <td>2.85</td>\n",
       "    </tr>\n",
       "    <tr>\n",
       "      <td>2016-01-01 00:45:00</td>\n",
       "      <td>3.00</td>\n",
       "    </tr>\n",
       "    <tr>\n",
       "      <td>2016-01-01 01:00:00</td>\n",
       "      <td>2.94</td>\n",
       "    </tr>\n",
       "    <tr>\n",
       "      <td>2016-01-01 01:15:00</td>\n",
       "      <td>2.79</td>\n",
       "    </tr>\n",
       "  </tbody>\n",
       "</table>\n",
       "</div>"
      ],
      "text/plain": [
       "                      kWh\n",
       "datetime                 \n",
       "2016-01-01 00:15:00  2.85\n",
       "2016-01-01 00:30:00  2.85\n",
       "2016-01-01 00:45:00  3.00\n",
       "2016-01-01 01:00:00  2.94\n",
       "2016-01-01 01:15:00  2.79"
      ]
     },
     "execution_count": 3,
     "metadata": {},
     "output_type": "execute_result"
    }
   ],
   "source": [
    "data = pd.read_excel('SmartMeterSample.xlsx')\n",
    "data.columns = ['datetime', 'kWh']\n",
    "data = data.set_index('datetime')\n",
    "data.head()"
   ]
  },
  {
   "cell_type": "code",
   "execution_count": 4,
   "metadata": {},
   "outputs": [],
   "source": [
    "data = data[~data.index.duplicated(keep='first')] # there are 4 entries with the same timestamp"
   ]
  },
  {
   "cell_type": "code",
   "execution_count": 5,
   "metadata": {},
   "outputs": [
    {
     "data": {
      "text/plain": [
       "kWh    3.57\n",
       "Name: 2017-05-11 00:00:00, dtype: float64"
      ]
     },
     "execution_count": 5,
     "metadata": {},
     "output_type": "execute_result"
    }
   ],
   "source": [
    "data.iloc[-1]"
   ]
  },
  {
   "cell_type": "markdown",
   "metadata": {},
   "source": [
    "### How to with timestamps"
   ]
  },
  {
   "cell_type": "code",
   "execution_count": 6,
   "metadata": {},
   "outputs": [
    {
     "data": {
      "text/plain": [
       "datetime.datetime(2016, 3, 31, 0, 15)"
      ]
     },
     "execution_count": 6,
     "metadata": {},
     "output_type": "execute_result"
    }
   ],
   "source": [
    "# how to get a timestamp from string\n",
    "datetime.fromisoformat('2016-01-01 00:15:00')\n",
    "# how to add 90 days to a specific time\n",
    "datetime.fromisoformat('2016-01-01 00:15:00') + timedelta(days=90)"
   ]
  },
  {
   "cell_type": "code",
   "execution_count": 7,
   "metadata": {},
   "outputs": [
    {
     "name": "stdout",
     "output_type": "stream",
     "text": [
      "47615\n"
     ]
    }
   ],
   "source": [
    "from datetime import datetime, timedelta\n",
    "\n",
    "def datetime_range(start, end, delta):\n",
    "    current = start\n",
    "    while current < end:\n",
    "        yield current\n",
    "        current += delta\n",
    "# generate timestamps for the whole period: starting on 01.01.2016, ending on 10.05.2017 \n",
    "dt = [dt for dt in \n",
    "       datetime_range(datetime(2016, 1, 1, 0, 15), datetime(2017, 5, 10, 23, 55), \n",
    "       timedelta(minutes=15))]\n",
    "\n",
    "print(len(dt))"
   ]
  },
  {
   "cell_type": "code",
   "execution_count": 8,
   "metadata": {},
   "outputs": [
    {
     "data": {
      "text/html": [
       "<div>\n",
       "<style scoped>\n",
       "    .dataframe tbody tr th:only-of-type {\n",
       "        vertical-align: middle;\n",
       "    }\n",
       "\n",
       "    .dataframe tbody tr th {\n",
       "        vertical-align: top;\n",
       "    }\n",
       "\n",
       "    .dataframe thead th {\n",
       "        text-align: right;\n",
       "    }\n",
       "</style>\n",
       "<table border=\"1\" class=\"dataframe\">\n",
       "  <thead>\n",
       "    <tr style=\"text-align: right;\">\n",
       "      <th></th>\n",
       "      <th>kWh</th>\n",
       "    </tr>\n",
       "    <tr>\n",
       "      <th>datetime</th>\n",
       "      <th></th>\n",
       "    </tr>\n",
       "  </thead>\n",
       "  <tbody>\n",
       "    <tr>\n",
       "      <td>2016-01-01 00:15:00</td>\n",
       "      <td>NaN</td>\n",
       "    </tr>\n",
       "    <tr>\n",
       "      <td>2016-01-01 00:30:00</td>\n",
       "      <td>NaN</td>\n",
       "    </tr>\n",
       "    <tr>\n",
       "      <td>2016-01-01 00:45:00</td>\n",
       "      <td>NaN</td>\n",
       "    </tr>\n",
       "    <tr>\n",
       "      <td>2016-01-01 01:00:00</td>\n",
       "      <td>NaN</td>\n",
       "    </tr>\n",
       "    <tr>\n",
       "      <td>2016-01-01 01:15:00</td>\n",
       "      <td>NaN</td>\n",
       "    </tr>\n",
       "  </tbody>\n",
       "</table>\n",
       "</div>"
      ],
      "text/plain": [
       "                     kWh\n",
       "datetime                \n",
       "2016-01-01 00:15:00  NaN\n",
       "2016-01-01 00:30:00  NaN\n",
       "2016-01-01 00:45:00  NaN\n",
       "2016-01-01 01:00:00  NaN\n",
       "2016-01-01 01:15:00  NaN"
      ]
     },
     "execution_count": 8,
     "metadata": {},
     "output_type": "execute_result"
    }
   ],
   "source": [
    "df = pd.DataFrame(dt)\n",
    "df.columns = ['datetime']\n",
    "df['kWh'] = np.nan\n",
    "df = df.set_index('datetime')\n",
    "df.head()"
   ]
  },
  {
   "cell_type": "code",
   "execution_count": 9,
   "metadata": {},
   "outputs": [
    {
     "name": "stdout",
     "output_type": "stream",
     "text": [
      "Missing value at  2016-03-27 02:00:00\n",
      "Missing value at  2016-03-27 02:15:00\n",
      "Missing value at  2016-03-27 02:30:00\n",
      "Missing value at  2016-03-27 02:45:00\n",
      "Missing value at  2016-11-10 01:45:00\n",
      "Missing value at  2017-02-24 00:00:00\n",
      "Missing value at  2017-02-24 00:15:00\n",
      "Missing value at  2017-02-24 00:30:00\n",
      "Missing value at  2017-02-24 00:45:00\n",
      "Missing value at  2017-02-24 01:00:00\n",
      "Missing value at  2017-02-24 01:15:00\n",
      "Missing value at  2017-02-24 01:30:00\n",
      "Missing value at  2017-02-24 01:45:00\n",
      "Missing value at  2017-02-24 02:00:00\n",
      "Missing value at  2017-02-24 02:15:00\n",
      "Missing value at  2017-02-24 02:30:00\n",
      "Missing value at  2017-02-24 02:45:00\n",
      "Missing value at  2017-02-24 03:00:00\n",
      "Missing value at  2017-02-24 03:15:00\n",
      "Missing value at  2017-02-24 03:30:00\n",
      "Missing value at  2017-02-24 03:45:00\n",
      "Missing value at  2017-02-24 04:00:00\n",
      "Missing value at  2017-02-24 04:15:00\n",
      "Missing value at  2017-02-24 04:30:00\n",
      "Missing value at  2017-02-24 04:45:00\n",
      "Missing value at  2017-02-24 05:00:00\n",
      "Missing value at  2017-02-24 05:15:00\n",
      "Missing value at  2017-02-24 05:30:00\n",
      "Missing value at  2017-02-24 05:45:00\n",
      "Missing value at  2017-02-24 06:00:00\n",
      "Missing value at  2017-02-24 06:15:00\n",
      "Missing value at  2017-02-24 06:30:00\n",
      "Missing value at  2017-02-24 06:45:00\n",
      "Missing value at  2017-02-24 07:00:00\n",
      "Missing value at  2017-02-24 07:15:00\n",
      "Missing value at  2017-03-26 02:00:00\n",
      "Missing value at  2017-03-26 02:15:00\n",
      "Missing value at  2017-03-26 02:30:00\n",
      "Missing value at  2017-03-26 02:45:00\n"
     ]
    }
   ],
   "source": [
    "for index,row in df.iterrows():\n",
    "    if index in data.index:\n",
    "        df.loc[index]['kWh'] = data.loc[index]['kWh']\n",
    "    else:\n",
    "        print('Missing value at ', index)"
   ]
  },
  {
   "cell_type": "code",
   "execution_count": 10,
   "metadata": {},
   "outputs": [
    {
     "data": {
      "text/html": [
       "<div>\n",
       "<style scoped>\n",
       "    .dataframe tbody tr th:only-of-type {\n",
       "        vertical-align: middle;\n",
       "    }\n",
       "\n",
       "    .dataframe tbody tr th {\n",
       "        vertical-align: top;\n",
       "    }\n",
       "\n",
       "    .dataframe thead th {\n",
       "        text-align: right;\n",
       "    }\n",
       "</style>\n",
       "<table border=\"1\" class=\"dataframe\">\n",
       "  <thead>\n",
       "    <tr style=\"text-align: right;\">\n",
       "      <th></th>\n",
       "      <th>kWh</th>\n",
       "    </tr>\n",
       "    <tr>\n",
       "      <th>datetime</th>\n",
       "      <th></th>\n",
       "    </tr>\n",
       "  </thead>\n",
       "  <tbody>\n",
       "    <tr>\n",
       "      <td>2016-01-01 00:15:00</td>\n",
       "      <td>2.85</td>\n",
       "    </tr>\n",
       "    <tr>\n",
       "      <td>2016-01-01 00:30:00</td>\n",
       "      <td>2.85</td>\n",
       "    </tr>\n",
       "    <tr>\n",
       "      <td>2016-01-01 00:45:00</td>\n",
       "      <td>3.00</td>\n",
       "    </tr>\n",
       "    <tr>\n",
       "      <td>2016-01-01 01:00:00</td>\n",
       "      <td>2.94</td>\n",
       "    </tr>\n",
       "    <tr>\n",
       "      <td>2016-01-01 01:15:00</td>\n",
       "      <td>2.79</td>\n",
       "    </tr>\n",
       "  </tbody>\n",
       "</table>\n",
       "</div>"
      ],
      "text/plain": [
       "                      kWh\n",
       "datetime                 \n",
       "2016-01-01 00:15:00  2.85\n",
       "2016-01-01 00:30:00  2.85\n",
       "2016-01-01 00:45:00  3.00\n",
       "2016-01-01 01:00:00  2.94\n",
       "2016-01-01 01:15:00  2.79"
      ]
     },
     "execution_count": 10,
     "metadata": {},
     "output_type": "execute_result"
    }
   ],
   "source": [
    "df.head()"
   ]
  },
  {
   "cell_type": "code",
   "execution_count": 22,
   "metadata": {},
   "outputs": [
    {
     "name": "stdout",
     "output_type": "stream",
     "text": [
      "Anomolous value at  2119\n",
      "Anomolous value at  2124\n",
      "Anomolous value at  2156\n",
      "Anomolous value at  2430\n",
      "Anomolous value at  2663\n",
      "Anomolous value at  2717\n",
      "Anomolous value at  4240\n",
      "Anomolous value at  4274\n",
      "Anomolous value at  4474\n",
      "Anomolous value at  6181\n",
      "Anomolous value at  7049\n",
      "Anomolous value at  7051\n",
      "Anomolous value at  7052\n",
      "Anomolous value at  7064\n",
      "Anomolous value at  7065\n",
      "Missing value at  8263\n",
      "Missing value at  8264\n",
      "Missing value at  8265\n",
      "Missing value at  8266\n",
      "Anomolous value at  13860\n",
      "Anomolous value at  23852\n",
      "Anomolous value at  24039\n",
      "Anomolous value at  25211\n",
      "Anomolous value at  25287\n",
      "Anomolous value at  25782\n",
      "Anomolous value at  26053\n",
      "Anomolous value at  28553\n",
      "Anomolous value at  28554\n",
      "Anomolous value at  28555\n",
      "Anomolous value at  28649\n",
      "Anomolous value at  28670\n",
      "Anomolous value at  28671\n",
      "Anomolous value at  28746\n",
      "Anomolous value at  29226\n",
      "Anomolous value at  29228\n",
      "Anomolous value at  29246\n",
      "Anomolous value at  29316\n",
      "Anomolous value at  29317\n",
      "Anomolous value at  29318\n",
      "Anomolous value at  29319\n",
      "Anomolous value at  29320\n",
      "Anomolous value at  29321\n",
      "Anomolous value at  29415\n",
      "Anomolous value at  29416\n",
      "Anomolous value at  29510\n",
      "Anomolous value at  29893\n",
      "Anomolous value at  29896\n",
      "Anomolous value at  29900\n",
      "Anomolous value at  29919\n",
      "Anomolous value at  29920\n",
      "Anomolous value at  30081\n",
      "Anomolous value at  30082\n",
      "Anomolous value at  30083\n",
      "Anomolous value at  30084\n",
      "Anomolous value at  30086\n",
      "Anomolous value at  30087\n",
      "Missing value at  30150\n",
      "Anomolous value at  30564\n",
      "Anomolous value at  31429\n",
      "Anomolous value at  32006\n",
      "Anomolous value at  32586\n",
      "Anomolous value at  32587\n",
      "Anomolous value at  32588\n",
      "Anomolous value at  32678\n",
      "Anomolous value at  32679\n",
      "Anomolous value at  32681\n",
      "Anomolous value at  32695\n",
      "Anomolous value at  32774\n",
      "Anomolous value at  32775\n",
      "Anomolous value at  32874\n",
      "Anomolous value at  33370\n",
      "Anomolous value at  33371\n",
      "Anomolous value at  33445\n",
      "Anomolous value at  33446\n",
      "Anomolous value at  33447\n",
      "Anomolous value at  33448\n",
      "Anomolous value at  33449\n",
      "Anomolous value at  33451\n",
      "Anomolous value at  33544\n",
      "Anomolous value at  34020\n",
      "Anomolous value at  34023\n",
      "Anomolous value at  35044\n",
      "Anomolous value at  35049\n",
      "Anomolous value at  35052\n",
      "Anomolous value at  35077\n",
      "Anomolous value at  35085\n",
      "Anomolous value at  35095\n",
      "Anomolous value at  35097\n",
      "Anomolous value at  35100\n",
      "Anomolous value at  35103\n",
      "Anomolous value at  35114\n",
      "Anomolous value at  35121\n",
      "Anomolous value at  35145\n",
      "Anomolous value at  35153\n",
      "Anomolous value at  35174\n",
      "Anomolous value at  35177\n",
      "Anomolous value at  35185\n",
      "Anomolous value at  35191\n",
      "Anomolous value at  35195\n",
      "Anomolous value at  35556\n",
      "Anomolous value at  36043\n",
      "Anomolous value at  36058\n",
      "Anomolous value at  36059\n",
      "Anomolous value at  36060\n",
      "Anomolous value at  36714\n",
      "Anomolous value at  36715\n",
      "Anomolous value at  36806\n",
      "Anomolous value at  36807\n",
      "Anomolous value at  36828\n",
      "Anomolous value at  36830\n",
      "Anomolous value at  36901\n",
      "Anomolous value at  36904\n",
      "Anomolous value at  36906\n",
      "Anomolous value at  37284\n",
      "Anomolous value at  37285\n",
      "Anomolous value at  37287\n",
      "Anomolous value at  37292\n",
      "Anomolous value at  37384\n",
      "Anomolous value at  37386\n",
      "Anomolous value at  37387\n",
      "Anomolous value at  37388\n",
      "Anomolous value at  37389\n",
      "Anomolous value at  37390\n",
      "Anomolous value at  37393\n",
      "Anomolous value at  37404\n",
      "Anomolous value at  37405\n",
      "Anomolous value at  37407\n",
      "Anomolous value at  37484\n",
      "Anomolous value at  37495\n",
      "Anomolous value at  37977\n",
      "Anomolous value at  37980\n",
      "Anomolous value at  38052\n",
      "Anomolous value at  38053\n",
      "Anomolous value at  38070\n",
      "Anomolous value at  38071\n",
      "Anomolous value at  38072\n",
      "Anomolous value at  38073\n",
      "Anomolous value at  38080\n",
      "Anomolous value at  38082\n",
      "Anomolous value at  40072\n",
      "Anomolous value at  40073\n",
      "Anomolous value at  40074\n",
      "Anomolous value at  40075\n",
      "Anomolous value at  40076\n",
      "Anomolous value at  40077\n",
      "Missing value at  40319\n",
      "Missing value at  40320\n",
      "Missing value at  40321\n",
      "Missing value at  40322\n",
      "Missing value at  40323\n",
      "Missing value at  40324\n",
      "Missing value at  40325\n",
      "Missing value at  40326\n",
      "Missing value at  40327\n",
      "Missing value at  40328\n",
      "Missing value at  40329\n",
      "Missing value at  40330\n",
      "Missing value at  40331\n",
      "Missing value at  40332\n",
      "Missing value at  40333\n",
      "Missing value at  40334\n",
      "Missing value at  40335\n",
      "Missing value at  40336\n",
      "Missing value at  40337\n",
      "Missing value at  40338\n",
      "Missing value at  40339\n",
      "Missing value at  40340\n",
      "Missing value at  40341\n",
      "Missing value at  40342\n",
      "Missing value at  40343\n",
      "Missing value at  40344\n",
      "Missing value at  40345\n",
      "Missing value at  40346\n",
      "Missing value at  40347\n",
      "Missing value at  40348\n",
      "Anomolous value at  40472\n",
      "Anomolous value at  40746\n",
      "Anomolous value at  40748\n",
      "Anomolous value at  41432\n",
      "Anomolous value at  41433\n",
      "Anomolous value at  42659\n",
      "Anomolous value at  42667\n",
      "Missing value at  43207\n",
      "Missing value at  43208\n",
      "Missing value at  43209\n",
      "Missing value at  43210\n",
      "Anomolous value at  46122\n",
      "Anomolous value at  46123\n",
      "Anomolous value at  46124\n",
      "Anomolous value at  46125\n",
      "Anomolous value at  46126\n",
      "Anomolous value at  46213\n",
      "Anomolous value at  46219\n",
      "Anomolous value at  46220\n",
      "Anomolous value at  46314\n",
      "Anomolous value at  46315\n"
     ]
    }
   ],
   "source": [
    "\n",
    "df['freq'] = 0\n",
    "df['anomaly'] = 0\n",
    "appr = cl.defaultdict(float)\n",
    "count = 0\n",
    "alert_threshold = 0.0005\n",
    "\n",
    "for index, row in df.iterrows():\n",
    "    val = row['kWh']\n",
    "    if pd.isna(val):\n",
    "        print('Missing value at ', index)\n",
    "        df.loc[index,'anomaly']= 1\n",
    "    else:\n",
    "        count += 1\n",
    "        if val in appr:\n",
    "            appr[val] += 1\n",
    "        else:\n",
    "            appr[val] = 1\n",
    "        df.loc[index,'freq'] = appr[val]/count\n",
    "        if df.loc[index,'freq'] < alert_threshold:\n",
    "            print('Anomolous value at ', index)\n",
    "            df.loc[index,'anomaly']= 1"
   ]
  },
  {
   "cell_type": "code",
   "execution_count": 26,
   "metadata": {},
   "outputs": [
    {
     "data": {
      "image/png": "[encoded data removed]",
      "text/plain": [
       "<Figure size 720x432 with 1 Axes>"
      ]
     },
     "metadata": {
      "needs_background": "light"
     },
     "output_type": "display_data"
    }
   ],
   "source": [
    "plotdf = df.reset_index()\n",
    "fig, ax = plt.subplots(figsize=(10,6))\n",
    "a = plotdf.loc[plotdf['anomaly'] == 1, ['datetime', 'kWh']] #anomaly\n",
    "ax.plot(plotdf['datetime'], plotdf['kWh'], color='blue')\n",
    "ax.scatter(a['datetime'], a['kWh'], color='red')\n",
    "plt.show();"
   ]
  },
  {
   "cell_type": "code",
   "execution_count": 19,
   "metadata": {},
   "outputs": [
    {
     "data": {
      "text/html": [
       "<div>\n",
       "<style scoped>\n",
       "    .dataframe tbody tr th:only-of-type {\n",
       "        vertical-align: middle;\n",
       "    }\n",
       "\n",
       "    .dataframe tbody tr th {\n",
       "        vertical-align: top;\n",
       "    }\n",
       "\n",
       "    .dataframe thead th {\n",
       "        text-align: right;\n",
       "    }\n",
       "</style>\n",
       "<table border=\"1\" class=\"dataframe\">\n",
       "  <thead>\n",
       "    <tr style=\"text-align: right;\">\n",
       "      <th></th>\n",
       "      <th>kWh</th>\n",
       "      <th>freq</th>\n",
       "      <th>anomaly</th>\n",
       "    </tr>\n",
       "    <tr>\n",
       "      <th>datetime</th>\n",
       "      <th></th>\n",
       "      <th></th>\n",
       "      <th></th>\n",
       "    </tr>\n",
       "  </thead>\n",
       "  <tbody>\n",
       "  </tbody>\n",
       "</table>\n",
       "</div>"
      ],
      "text/plain": [
       "Empty DataFrame\n",
       "Columns: [kWh, freq, anomaly]\n",
       "Index: []"
      ]
     },
     "execution_count": 19,
     "metadata": {},
     "output_type": "execute_result"
    }
   ],
   "source": [
    "df[df['anomaly'] == 1]"
   ]
  },
  {
   "cell_type": "code",
   "execution_count": null,
   "metadata": {},
   "outputs": [],
   "source": []
  }
 ],
 "metadata": {
  "kernelspec": {
   "display_name": "Python 3",
   "language": "python",
   "name": "python3"
  },
  "language_info": {
   "codemirror_mode": {
    "name": "ipython",
    "version": 3
   },
   "file_extension": ".py",
   "mimetype": "text/x-python",
   "name": "python",
   "nbconvert_exporter": "python",
   "pygments_lexer": "ipython3",
   "version": "3.7.4"
  }
 },
 "nbformat": 4,
 "nbformat_minor": 2
}
